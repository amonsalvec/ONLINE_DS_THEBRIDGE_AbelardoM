{
 "cells": [
  {
   "cell_type": "markdown",
   "metadata": {
    "id": "vigJnuAMSU4x"
   },
   "source": [
    "![TheBridge_logo_RGB_color.jpg](attachment:TheBridge_logo_RGB_color.jpg)"
   ]
  },
  {
   "cell_type": "markdown",
   "metadata": {
    "id": "2xmnwM17SU4y"
   },
   "source": [
    "![ejercicios.png](attachment:ejercicios.png)"
   ]
  },
  {
   "cell_type": "markdown",
   "metadata": {
    "id": "liorA-1ZSU4y"
   },
   "source": [
    "# Ejercicios Clases y Objetos"
   ]
  },
  {
   "cell_type": "markdown",
   "metadata": {
    "id": "5xXUz5l9SU4z"
   },
   "source": [
    "## Ejercicio 1\n",
    "Somos una empresa que tiene varias tiendas de electrodomesticos. Necesitamos un programa para manejar las tiendas, ver las ventas que han tenido, cuántos empleados hay, etc... Para ello vamos a modelizar la tienda en una clase, que tendrá las siguientes características:\n",
    "* Nombre clase: \"Tienda\"\n",
    "* Atributos comunes:\n",
    "    * Tipo: \"Electrodomésticos\"\n",
    "    * Abierta: True\n",
    "* Atributos propios de cada tienda:\n",
    "    * Nombre - String\n",
    "    * Dirección - String\n",
    "    * Número de empleados - int\n",
    "    * Ventas ultimos 3 meses - Lista de 3 numeros\n",
    "* Método para calcular las ventas de todos los meses, que devuelva un numero con todas las ventas.\n",
    "* Método que calcula la media de ventas de los ultimos meses, por empleado\n",
    "* Método que devuelve en un string el nombre de la tienda, junto con su dirección.\n",
    "* Método que obtiene las ventas del último mes.\n",
    "* Método para dar una proyección de las ventas en caso de haber invertido X dinero en marketing en esa tienda. Siendo X el parámetro de entrada. Si X es menor de 1000, las ventas de los ultimos 3 meses hubiesen sido de (1.2 x ventas), si es mayor o igual de 1000, las ventas hubiesen sido de (1.5 x venta). El método reescribe el atributo de ventas en los últimos 3 meses, y además devuelve las ventas con el aumento.\n",
    "\n",
    "Se pide:\n",
    "1. Implementar la clase \"Tienda\"\n",
    "2. Crear tres tiendas con datos inventados\n",
    "3. Comprueba en al menos una de ellas, todo lo implementado en la clase tienda (sus atributos, media de ventas, ventas/empleado...)\n",
    "3. Calcular las ventas del último mes de todas las tiendas. Para ello usa el bucle `for`\n",
    "4. Imprime por pantalla los nombres de las tiendas cuya dirección lleve el string \"Avenida\"\n",
    "5. Seguro que ya has hecho este apartado... Documenta la clase :)"
   ]
  },
  {
   "cell_type": "code",
   "execution_count": 16,
   "metadata": {
    "id": "5cLQcLxfSU4z"
   },
   "outputs": [],
   "source": [
    "class Tienda:\n",
    "    Tipo = \"Electrodomésticos\"\n",
    "    Abierto = True\n",
    "    \n",
    "    def __init__(self, nombre, direccion, num_empleados, ventas):\n",
    "        self.nombre = nombre\n",
    "        self.direccion = direccion\n",
    "        self.num_empleados = num_empleados\n",
    "        self.ventas = ventas\n",
    "\n",
    "    def print_datos(self):\n",
    "        print(\"Nombre:\", self.nombre)\n",
    "        print(\"Direccion:\", self.direccion)\n",
    "        print(\"Número de empleados:\", self.num_empleados) \n",
    "        print(\"Ventas :\", self.ventas)\n",
    "\n",
    "    def ventas_totales(self):\n",
    "        return sum(self.ventas)\n",
    "\n",
    "    def media_ventas_por_empleado(self):\n",
    "        return self.ventas_totales() / self.num_empleados\n",
    "\n",
    "    def nombre_y_direccion(self):\n",
    "        return f\"{self.nombre}, {self.direccion}\"\n",
    "\n",
    "    def ventas_ultimo_mes(self):\n",
    "        return self.ventas[-1]\n",
    "\n",
    "    def proyeccion_ventas_marketing(self, inversion):\n",
    "        if inversion < 1000:\n",
    "            aumento = 1.2\n",
    "        else:\n",
    "            aumento = 1.5\n",
    "        self.ventas = [venta * aumento for venta in self.ventas]\n",
    "        return self.ventas\n",
    "\n",
    "    def __str__(self):\n",
    "        return f\"Tienda: {self.nombre}, Dirección: {self.direccion}, Empleados: {self.num_empleados}, Ventas: {self.ventas}\"\n",
    "        \n",
    "\n",
    "\n"
   ]
  },
  {
   "cell_type": "code",
   "execution_count": 27,
   "metadata": {},
   "outputs": [
    {
     "name": "stdout",
     "output_type": "stream",
     "text": [
      "Nombre: Tienda Centro\n",
      "Direccion: Avenida Central 123\n",
      "Número de empleados: 10\n",
      "Ventas : [1000, 1500, 1300]\n",
      "***************\n",
      "Nombre: Tienda Mayor\n",
      "Direccion: Calle Mayor 456\n",
      "Número de empleados: 8\n",
      "Ventas : [900, 1100, 1200]\n",
      "***************\n",
      "Nombre: Tienda Libertad\n",
      "Direccion: Avenida Libertad 789\n",
      "Número de empleados: 15\n",
      "Ventas : [2000, 2500, 2400]\n",
      "***************\n",
      "Tienda Centro, Avenida Central 123\n",
      "Ventas totales: 3800\n",
      "Media de ventas por empleado: 380.0\n",
      "Ventas del último mes: 1300\n",
      "Proyección de ventas con 500 en marketing: [1200.0, 1800.0, 1560.0]\n",
      "***************\n",
      "Ventas del último mes de todas las tiendas: [1560.0, 1200, 2400]\n",
      "***************\n",
      "Tienda Centro\n",
      "Tienda Libertad\n"
     ]
    }
   ],
   "source": [
    "# Crear tres tiendas con datos inventados\n",
    "tienda1 = Tienda(\"Tienda Centro\", \"Avenida Central 123\", 10, [1000, 1500, 1300])\n",
    "tienda2 = Tienda(\"Tienda Mayor\", \"Calle Mayor 456\", 8, [900, 1100, 1200])\n",
    "tienda3 = Tienda(\"Tienda Libertad\", \"Avenida Libertad 789\", 15, [2000, 2500, 2400])\n",
    "\n",
    "tienda1.print_datos()\n",
    "print(\"***************\")\n",
    "tienda2.print_datos()\n",
    "print(\"***************\")\n",
    "tienda3.print_datos()\n",
    "print(\"***************\")\n",
    "\n",
    "# Comprobando en tienda1 todo lo implementado\n",
    "print(tienda1.nombre_y_direccion())  # Nombre y dirección\n",
    "print(\"Ventas totales:\", tienda1.ventas_totales())  # Ventas totales\n",
    "print(\"Media de ventas por empleado:\", tienda1.media_ventas_por_empleado())  # Media de ventas por empleado\n",
    "print(\"Ventas del último mes:\", tienda1.ventas_ultimo_mes())  # Ventas del último mes\n",
    "print(\"Proyección de ventas con 500 en marketing:\", tienda1.proyeccion_ventas_marketing(500))  # Proyección de ventas\n",
    "print(\"***************\")\n",
    "\n",
    "# Calcular las ventas del último mes de todas las tiendas\n",
    "ventas_ultimo_mes_todas_tiendas = [tienda.ventas_ultimo_mes() for tienda in [tienda1, tienda2, tienda3]]\n",
    "print(\"Ventas del último mes de todas las tiendas:\", ventas_ultimo_mes_todas_tiendas)\n",
    "print(\"***************\")\n",
    "\n",
    "# Imprime por pantalla los nombres de las tiendas cuya dirección lleve el string \"Avenida\"\n",
    "for tienda in [tienda1, tienda2, tienda3]:\n",
    "    if \"Avenida\" in tienda.direccion:\n",
    "        print(tienda.nombre)\n",
    "\n"
   ]
  },
  {
   "cell_type": "code",
   "execution_count": null,
   "metadata": {},
   "outputs": [],
   "source": []
  },
  {
   "cell_type": "markdown",
   "metadata": {
    "id": "WEBq7EpsSU40"
   },
   "source": [
    "## Ejercicio 2\n",
    "En este ejercicio vamos a implementar una clase *Perro* en Python. La clase tiene las siguientes características:\n",
    "* Cosas que sabemos seguro que tiene un perro\n",
    "    * Tiene 4 patas\n",
    "    * 2 orejas\n",
    "    * 2 ojos\n",
    "    * Una velocidad de 0. Por defecto, el perro está parado\n",
    "* Cuando se inicialice:\n",
    "    * El perro será de una determinada raza\n",
    "    * Por defecto tendrá pelo \"Marrón\", a no ser que se diga lo contrario.\n",
    "    * Por defecto no tendrá dueño, a no ser que se diga lo contrario.\n",
    "    \n",
    "* Dispondrá también de un método llamado andar, que tiene un argumento de entrada (aumento_velocidad). Este valor se le sumará a la velocidad que ya llevaba el perro.\n",
    "* Necesita otro método (parar), donde pondremos la velocidad a 0.\n",
    "* Otro método llamado \"ladrar\", que tendrá un argumento de entrada, y la salida será el siguiente string: \"GUAU!\" + el argumento de entrada.\n",
    "\n",
    "\n",
    "Se pide:\n",
    "* Implementa la clase *Perro*\n",
    "* Crea un objeto de tipo *Perro*, sin dueño\n",
    "* Comprueba que están bien todos sus atributos\n",
    "* Prueba que ande, y comprueba su velocidad\n",
    "* Páralo\n",
    "* Documenta la clase *Perro*"
   ]
  },
  {
   "cell_type": "code",
   "execution_count": 33,
   "metadata": {
    "id": "DpEWvbwGSU40"
   },
   "outputs": [],
   "source": [
    "class Perro: \n",
    "    patas = 4\n",
    "    orejas = 2\n",
    "    ojos = 2\n",
    "    velocidad = 0 \n",
    "\n",
    "    def __init__(self, raza, duenyo = False , color_pelo = \"Marrón\"): \n",
    "        self.raza = raza\n",
    "        self.duenyo = duenyo \n",
    "        self.color_pelo = color_pelo\n",
    "\n",
    "    def print_datos(self):\n",
    "        print(\"Raza:\", self.raza)\n",
    "        print(\"Tiene dueño:\", self.duenyo)\n",
    "        print(\"El color de su pelaje es :\", self.color_pelo) \n",
    "        print(\"Su velocidad de movimiento es:\", self.velocidad)\n",
    "\n",
    "    def andar(self, aumento_velocidad):\n",
    "        self.velocidad = self.velocidad + aumento_velocidad\n",
    "        \n",
    "    def parar(self):\n",
    "        self.velocidad = 0\n",
    "\n",
    "    def ladrar(self,arg):\n",
    "            return \"GUAU \" + arg\n",
    "\n",
    "    def __str__(self):\n",
    "        return f\"Perro de raza {self.raza}, pelo {self.color_pelo}, dueño {'sí' if self.duenyo else 'no'}, velocidad {self.velocidad}\"        \n",
    "   \n"
   ]
  },
  {
   "cell_type": "code",
   "execution_count": 34,
   "metadata": {
    "scrolled": true
   },
   "outputs": [
    {
     "name": "stdout",
     "output_type": "stream",
     "text": [
      "Perro de raza Schnauzer, pelo Marrón, dueño no, velocidad 0\n",
      "Velocidad después de andar: 5\n",
      "Velocidad después de parar: 0\n",
      "GUAU Hola\n"
     ]
    }
   ],
   "source": [
    "  # Crear un objeto de tipo Perro sin dueño\n",
    "mi_perro = Perro(raza= \"Schnauzer\")\n",
    "\n",
    "# Comprobar que están bien todos sus atributos\n",
    "print(mi_perro)  # Salida esperada: Perro de raza Labrador, pelo Marrón, dueño no, velocidad 0\n",
    "\n",
    "# Prueba que ande, y comprueba su velocidad\n",
    "mi_perro.andar(5)\n",
    "print(f\"Velocidad después de andar: {mi_perro.velocidad}\")  # Salida esperada: Velocidad después de andar: 5\n",
    "\n",
    "# Páralo\n",
    "mi_perro.parar()\n",
    "print(f\"Velocidad después de parar: {mi_perro.velocidad}\")  # Salida esperada: Velocidad después de parar: 0\n",
    "\n",
    "# Probar el método ladrar\n",
    "print(mi_perro.ladrar(\"Hola\"))  # Salida esperada: GUAU! Hola   "
   ]
  },
  {
   "cell_type": "markdown",
   "metadata": {},
   "source": [
    "# Documentación de la Clase Perro\n",
    "\n",
    "\"class Perro\": Clase que representa a un perro con atributos y métodos básicos.\n",
    "\n",
    "   ## Atributos de clase:\n",
    "    - patas (int): Número de patas del perro (por defecto 4)\n",
    "    - orejas (int): Número de orejas del perro (por defecto 2)\n",
    "    - ojos (int): Número de ojos del perro (por defecto 2)\n",
    "    - velocidad (int): Velocidad del perro (por defecto 0, el perro está parado)\n",
    "\n",
    "   ## Atributos de instancia:\n",
    "    - raza (str): La raza del perro\n",
    "    - color_pelo (str): El color del pelo del perro (por defecto \"Marrón\")\n",
    "    - duenyo (str o None): El dueño del perro (por defecto None)\n",
    "\n",
    "   ## Métodos:\n",
    "    - __init__(self, raza, pelo=\"Marrón\", duenyo = False): Inicializa un nuevo perro con la raza dada, color de pelo y dueño opcional.\n",
    "    - andar(self, aumento_velocidad): Aumenta la velocidad del perro en el valor dado.\n",
    "    - parar(self): Establece la velocidad del perro a 0.\n",
    "    - ladrar(self, arg): Devuelve un string con el ladrido del perro seguido del arg = \"argumento\" dado.\n",
    "    - __str__(self): Devuelve una representación en string del perro, mostrando su raza, color de pelo, dueño y velocidad.\n",
    "    "
   ]
  }
 ],
 "metadata": {
  "colab": {
   "provenance": []
  },
  "kernelspec": {
   "display_name": "Python 3 (ipykernel)",
   "language": "python",
   "name": "python3"
  },
  "language_info": {
   "codemirror_mode": {
    "name": "ipython",
    "version": 3
   },
   "file_extension": ".py",
   "mimetype": "text/x-python",
   "name": "python",
   "nbconvert_exporter": "python",
   "pygments_lexer": "ipython3",
   "version": "3.13.2"
  }
 },
 "nbformat": 4,
 "nbformat_minor": 4
}

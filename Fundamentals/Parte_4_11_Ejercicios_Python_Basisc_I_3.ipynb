{
 "cells": [
  {
   "cell_type": "markdown",
   "metadata": {
    "id": "QXxDnq0rRvum"
   },
   "source": [
    "![TheBridge_logo_RGB_color.jpg](attachment:TheBridge_logo_RGB_color.jpg)"
   ]
  },
  {
   "cell_type": "markdown",
   "metadata": {
    "id": "ksWyLTXLRvup"
   },
   "source": [
    "![imagen](./img/ejercicios.png)"
   ]
  },
  {
   "cell_type": "markdown",
   "metadata": {
    "id": "pW4fOo9URvuq"
   },
   "source": [
    "## EJERCICIOS PYTHON BASICO 3:\n",
    "## Operaciones matemáticas, comparación y booleanas"
   ]
  },
  {
   "cell_type": "markdown",
   "metadata": {
    "id": "yruqjGMhRvur"
   },
   "source": [
    "Completa los siguiente ejercicios, la solución completa a los mismos se publicarán en el repo del curso a lo largo del sprint. En algunos ejercicios se muestra la solución final, para que puedas comprobar que lo has hecho bien, pero lo importante es el código que generes. ¡Vaaamos, a ello...!"
   ]
  },
  {
   "cell_type": "markdown",
   "metadata": {
    "id": "5DeR4nbGRvur"
   },
   "source": [
    "![ejercicio.png](./img/ejercicio.png)\n",
    "\n",
    "\n",
    "## Ejercicio 1\n",
    "Tenemos las siguientes variables:\n",
    "\n",
    "```Python\n",
    "A = 4\n",
    "B = \"Text\"\n",
    "C = 4.1\n",
    "```\n",
    "\n",
    "Comprueba:\n",
    "1. Si A y B son equivalentes\n",
    "2. Si A y C NO son equivalentes\n",
    "3. Si A es mayor que C\n",
    "4. Si C es menor o igual que A\n",
    "5. Si B NO es equivalente a C"
   ]
  },
  {
   "cell_type": "code",
   "execution_count": 28,
   "metadata": {
    "id": "0FY6pGTpRvus",
    "outputId": "507aa421-8c16-44b7-fc4b-856b0396fea6"
   },
   "outputs": [
    {
     "name": "stdout",
     "output_type": "stream",
     "text": [
      "False\n",
      "True\n",
      "False\n",
      "False\n",
      "True\n"
     ]
    }
   ],
   "source": [
    "A = 4\n",
    "B = \"Text\"\n",
    "C = 4.1\n",
    "\n",
    "print(A == B)\n",
    "print(A != C )\n",
    "print(A > C )\n",
    "print(C <= A )\n",
    "print(B != C )"
   ]
  },
  {
   "cell_type": "markdown",
   "metadata": {
    "id": "_Dglu5BzRvut"
   },
   "source": [
    "![ejercicio.png](./img/ejercicio.png)\n",
    "\n",
    "## Ejercicio 2\n",
    "Crea un programa donde se recojan dos inputs del usuario, y el output del programa sea si esos inputs son iguales o no"
   ]
  },
  {
   "cell_type": "code",
   "execution_count": 12,
   "metadata": {
    "id": "YXxU_9hJRvuu"
   },
   "outputs": [
    {
     "name": "stdin",
     "output_type": "stream",
     "text": [
      "Cuál es su nota en la asignatura matemáticas 7.5\n",
      "Cuál es su nota en la asignatura física 7.5\n"
     ]
    },
    {
     "name": "stdout",
     "output_type": "stream",
     "text": [
      "¿Son iguales las notas en las asignaturas física y matemáticas? True\n"
     ]
    }
   ],
   "source": [
    "input_1 = input(\"Cuál es su nota en la asignatura matemáticas\")\n",
    "input_2 = input(\"Cuál es su nota en la asignatura física\")\n",
    "\n",
    "comparacion = input_1 == input_2\n",
    "print(f\"¿Son iguales las notas en las asignaturas física y matemáticas? {comparacion}\")\n"
   ]
  },
  {
   "cell_type": "markdown",
   "metadata": {
    "id": "P2tTzSezRvuu"
   },
   "source": [
    "![ejercicio.png](./img/ejercicio.png)\n",
    "\n",
    "## Ejercicio 3\n",
    "Mismo programa que en 2, pero en esta ocasión tienen que ser tres inputs y dos salidas. Una de las salidas que nos indique si todos son iguales, y la otra si al menos dos inputs sí que lo son"
   ]
  },
  {
   "cell_type": "code",
   "execution_count": 19,
   "metadata": {
    "id": "DNqroL2XRvuu",
    "outputId": "00caed3b-e884-484d-af1e-8a301d6d37f1"
   },
   "outputs": [
    {
     "name": "stdin",
     "output_type": "stream",
     "text": [
      "Edad del paciente 1 23\n",
      "Edad del paciente 2 23\n",
      "Edad del paciente 3 25\n"
     ]
    },
    {
     "name": "stdout",
     "output_type": "stream",
     "text": [
      "¿Son iguales las edades de los tres pacientes? False\n",
      "¿Son iguales las edades de al menos dos de los pacientes? True\n"
     ]
    }
   ],
   "source": [
    "input_1 = input(\"Edad del paciente 1\")\n",
    "input_2 = input(\"Edad del paciente 2\")\n",
    "input_3 = input(\"Edad del paciente 3\")\n",
    "\n",
    "#comparacion_1 = (input_1 == input_2) and (input_1 == input_3) and (input_2 == input_3)\n",
    "comparacion_1 = input_1 == input_2 == input_3\n",
    "comparacion_2 = (input_1 == input_2) or (input_1 == input_3) or (input_2 == input_3)\n",
    "\n",
    "print(f\"¿Son iguales las edades de los tres pacientes? {comparacion_1}\")\n",
    "\n",
    "print(f\"¿Son iguales las edades de al menos dos de los pacientes? {comparacion_2}\")"
   ]
  },
  {
   "cell_type": "markdown",
   "metadata": {
    "id": "v7isosEDRvuv"
   },
   "source": [
    "![ejercicio.png](./img/ejercicio.png)\n",
    "\n",
    "## Ejercicio 4\n",
    "Razona sin ejecutar código el output que obtendremos de las siguientes sentencias\n",
    "1. True and True and False\n",
    "2. not ((True or False) and (True or False))\n",
    "3. (False or False or False or True) and False\n",
    "4. not False and True and not True"
   ]
  },
  {
   "cell_type": "markdown",
   "metadata": {
    "id": "ojjFvoFKRvuv"
   },
   "source": [
    "1.False \n",
    "\n",
    "2.False  \n",
    "\n",
    "3.False \n",
    "\n",
    "4.False \n"
   ]
  }
 ],
 "metadata": {
  "colab": {
   "provenance": []
  },
  "kernelspec": {
   "display_name": "Python 3 (ipykernel)",
   "language": "python",
   "name": "python3"
  },
  "language_info": {
   "codemirror_mode": {
    "name": "ipython",
    "version": 3
   },
   "file_extension": ".py",
   "mimetype": "text/x-python",
   "name": "python",
   "nbconvert_exporter": "python",
   "pygments_lexer": "ipython3",
   "version": "3.13.2"
  }
 },
 "nbformat": 4,
 "nbformat_minor": 4
}

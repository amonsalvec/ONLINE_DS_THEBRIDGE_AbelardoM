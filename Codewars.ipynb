{
 "cells": [
  {
   "cell_type": "code",
   "execution_count": 34,
   "id": "7a66c07c-2e1c-4bc2-b59d-a9f9f179f5d1",
   "metadata": {},
   "outputs": [],
   "source": [
    "#K8y\n",
    "def collinearity(x1, y1, x2, y2):\n",
    "  if x1 == y1 == 0 or x2 == y2 == 0:\n",
    "    return True\n",
    "  elif x1 == 0:\n",
    "    return x2 == 0\n",
    "  elif y1 == 0:\n",
    "    return y2 == 0\n",
    "  else: \n",
    "  return x1 * y2 == y1 * x2"
   ]
  },
  {
   "cell_type": "code",
   "execution_count": 33,
   "id": "e260137d-46bc-464b-a5dc-e91fe461e443",
   "metadata": {},
   "outputs": [
    {
     "name": "stdout",
     "output_type": "stream",
     "text": [
      "Misma dirección\n",
      "True\n",
      "True\n",
      "Direcciones opuestas\n",
      "False\n",
      "True\n",
      "False\n",
      "Conteniendo el cero\n",
      "True\n",
      "False\n",
      "False\n",
      "Conteniendo x = 0 e y = 0\n",
      "True\n",
      "True\n",
      "True\n"
     ]
    }
   ],
   "source": [
    "# Misma dirección\n",
    "print(\"Misma dirección\")\n",
    "res = collinearity(1,1,1,1)\n",
    "print(res)\n",
    "res = collinearity(1,2,2,4)\n",
    "print(res)\n",
    "# Direcciones opuestas\n",
    "print(\"Direcciones opuestas\")\n",
    "res = collinearity(1,1,6,1)\n",
    "print(res)\n",
    "res = collinearity(1,2,-1,-2)\n",
    "print(res)\n",
    "res = collinearity(1,2,1,-2)\n",
    "print(res)\n",
    "# Vectores conteniendo el cero \n",
    "print(\"Conteniendo el cero\")\n",
    "res = collinearity(4,0,11,0)\n",
    "print(res)\n",
    "res = collinearity(0,1,6,0)\n",
    "print(res)\n",
    "res = collinearity(4,4,0,4)\n",
    "print(res)\n",
    "\n",
    "# Vectores conteniendo x = 0 e y = 0 \n",
    "print(\"Conteniendo x = 0 e y = 0\")\n",
    "res = collinearity(0,0,0,0)\n",
    "print(res)\n",
    "res = collinearity(0,0,1,0)\n",
    "print(res)\n",
    "res = collinearity(5,7,0,0)\n",
    "print(res)"
   ]
  },
  {
   "cell_type": "code",
   "execution_count": 114,
   "id": "ffc62547-9569-4c70-9d15-69071c359ffb",
   "metadata": {},
   "outputs": [
    {
     "name": "stdout",
     "output_type": "stream",
     "text": [
      "[1, 2, 3]\n",
      "[4, 5, 6]\n",
      "[7, 8, 9, 0]\n",
      "1\n",
      "2\n",
      "3\n",
      "4\n",
      "5\n",
      "6\n",
      "7\n",
      "8\n",
      "9\n",
      "0\n",
      "1234567890\n",
      "1234567890 <class 'str'>\n",
      "(123) 456-7890 <class 'str'>\n"
     ]
    }
   ],
   "source": [
    "def create_phone_number(n):\n",
    "    m = \"\"\n",
    "    for i in n:\n",
    "      m = m + str(i) \n",
    "    return \"(\" + m[0:3] + \")\" + \" \" + m[3:6] + \"-\" + m[6:10]\n",
    "\n",
    "\n",
    "def create_phone_number(n):\n",
    "\treturn \"({}{}{}) {}{}{}-{}{}{}{}\".format(*n)\n",
    "\n",
    "def create_phone_number(n):\n",
    "    n = ''.join(map(str,n))\n",
    "    return '(%s) %s-%s'%(n[:3], n[3:6], n[6:])\n",
    "\n",
    "output = create_phone_number([1, 2, 3, 4, 5, 6, 7, 8, 9, 0]) # => returns \"(123) 456-7890\"\n",
    "print(output,type(output))\n",
    "\n"
   ]
  },
  {
   "cell_type": "code",
   "execution_count": 208,
   "id": "6ab07f33-fa0e-427a-a64a-36abb3bcdb84",
   "metadata": {},
   "outputs": [
    {
     "data": {
      "text/plain": [
       "True"
      ]
     },
     "execution_count": 208,
     "metadata": {},
     "output_type": "execute_result"
    }
   ],
   "source": [
    "def narcissistic(value):\n",
    "    value_str = str(value)\n",
    "    power = len(value_str)\n",
    "    value_aux = 0\n",
    "    for i in range(power):\n",
    "        value_aux = value_aux + int(value_str[i])**power\n",
    "    \n",
    "    if value_aux == value:\n",
    "        return True\n",
    "    else:\n",
    "        return False # Code away\n",
    "\n",
    "value = 371\n",
    "narcissistic(value)"
   ]
  },
  {
   "cell_type": "code",
   "execution_count": 209,
   "id": "d3e9d105-c569-4fa5-b446-630c3c08fb6a",
   "metadata": {
    "scrolled": true
   },
   "outputs": [
    {
     "name": "stdout",
     "output_type": "stream",
     "text": [
      "TAACG\n"
     ]
    },
    {
     "data": {
      "text/plain": [
       "'TAACG'"
      ]
     },
     "execution_count": 209,
     "metadata": {},
     "output_type": "execute_result"
    }
   ],
   "source": [
    "cadena = \"ATTGC\"\n",
    "cadena_aux=[]\n",
    "for i in range(len(cadena)):\n",
    "   # cadena_aux = cadena_aux+[cadena[i]]\n",
    "    if cadena[i]==\"A\":\n",
    "        cadena_aux = cadena_aux + [\"T\"]\n",
    "    elif cadena[i]==\"T\":\n",
    "        cadena_aux = cadena_aux + [\"A\"]\n",
    "    elif cadena[i]==\"G\":\n",
    "        cadena_aux = cadena_aux + [\"C\"]\n",
    "    else: #cadena[i]==\"C\":\n",
    "        cadena_aux = cadena_aux + [\"G\"]\n",
    "cadena = \"\"\n",
    "for i in cadena_aux:\n",
    "     cadena = cadena + str(i)     \n",
    "    \n",
    "\n",
    "print(cadena)\n",
    "\n",
    "\n",
    "import string\n",
    "def DNA_strand(dna):\n",
    "    return dna.translate(string.maketrans(\"ATCG\",\"TAGC\"))\n",
    "    # Python 3.4 solution || you don't need to import anything :)\n",
    "    # return dna.translate(str.maketrans(\"ATCG\",\"TAGC\"))\n",
    "\n",
    "\n",
    "\n",
    "pairs = {'A':'T','T':'A','C':'G','G':'C'}\n",
    "def DNA_strand(dna):\n",
    "    return ''.join([pairs[x] for x in dna])\n",
    "\n",
    "\n",
    "def DNA_strand(dna):\n",
    "    reference = { \"A\":\"T\",\n",
    "                  \"T\":\"A\",\n",
    "                  \"C\":\"G\",\n",
    "                  \"G\":\"C\"\n",
    "                  }\n",
    "    return \"\".join([reference[x] for x in dna])\n",
    "\n",
    "\n",
    "\n",
    "def DNA_strand(dna):\n",
    "    myDict={\"A\":\"T\",\"T\":\"A\",\"C\":\"G\",\"G\":\"C\",}\n",
    "    sequence=\"\"\n",
    "    for i in dna:\n",
    "        sequence+=myDict[i]\n",
    "    return sequence\n",
    "\n",
    "\n",
    "\n",
    "def DNA_strand(dna):\n",
    "  return \"\".join([{'A':'T', 'T':'A', 'C':'G', 'G':'C'}[l] for l in dna])    \n",
    "\n",
    "DNA_strand(\"ATTGC\")\n",
    "\n",
    "#for x in range(30, -1, -1):\n",
    "#  print(x)\n",
    "\n",
    " "
   ]
  },
  {
   "cell_type": "code",
   "execution_count": 210,
   "id": "048763d8-5fc6-4689-9d4f-12304b28cd38",
   "metadata": {
    "scrolled": true
   },
   "outputs": [
    {
     "data": {
      "text/plain": [
       "2"
      ]
     },
     "execution_count": 210,
     "metadata": {},
     "output_type": "execute_result"
    }
   ],
   "source": [
    "sentence = \"This sentence is a sentence\"\n",
    "def spin_words(sentence):\n",
    "    split_sentence = sentence.split(\" \")\n",
    "    new_sentence = []\n",
    "    for word in split_sentence:\n",
    "        if len(word) >=5:\n",
    "            word_reverse = \"\"\n",
    "            for i in range(len(word)-1,-1,-1):\n",
    "                word_reverse = word_reverse + word[i]\n",
    "            new_sentence.append(word_reverse)\n",
    "        else:\n",
    "            new_sentence.append(word)\n",
    "    \n",
    "    return ' '.join(new_sentence) \n",
    "    \n",
    "\n",
    "def spin_words(sentence):\n",
    "    # Split the sentence into words\n",
    "    words = sentence.split()\n",
    "\n",
    "    # Reverse words with 5 or more letters\n",
    "    for i in range(len(words)):\n",
    "        if len(words[i]) >= 5:\n",
    "            words[i] = words[i][::-1]\n",
    "\n",
    "    # Join the words back into a string\n",
    "    return ' '.join(words)\n",
    "\n",
    "def spin_words(sentence):\n",
    "    # Your code goes here\n",
    "    return \" \".join([x[::-1] if len(x) >= 5 else x for x in sentence.split(\" \")])\n",
    "\n",
    "\n",
    "def spin_words(sentence):\n",
    "    words = [word for word in sentence.split(\" \")]\n",
    "    words = [word if len(word) < 5 else word[::-1] for word in words]\n",
    "    return \" \".join(words)    \n",
    "\n",
    "def spin_words(sentence):\n",
    "    L = sentence.split()\n",
    "    new = []\n",
    "    for word in L:\n",
    "        if len(word) >= 5:\n",
    "            new.append(word[::-1])\n",
    "        else:\n",
    "            new.append(word)\n",
    "    string = \" \".join(new)\n",
    "    return string\n",
    "\n",
    "def spin_words(sentence):\n",
    "    return ' '.join(word if len(word)<5 else word[::-1] for word in sentence.split())\n",
    "\n",
    "def spin_words(sentence):\n",
    "    return \" \".join(x[::-1] if len(x) >= 5 else x for x in sentence.split())    \n",
    "\n",
    "spin_words(sentence)\n",
    "\n",
    "#spin_words(\"Welcome\")\n",
    "sentence1 = \"How can mirrors be real if our eyes aren't real\"\n",
    "sentence.title()\n",
    "\n",
    "sentence2 = \"How Can Mirrors Be Real If Our Eyes Aren'T Real\"\n",
    "sentence.title()\n",
    "\n",
    "def to_jaden_case(string):\n",
    "    words = string.split(\" \")\n",
    "    jaden = []\n",
    "    for word in words:\n",
    "        jaden.append(word.capitalize())\n",
    "        \n",
    "    return ' '.join(jaden) \n",
    "\n",
    "to_jaden_case(sentence1)\n",
    "\n",
    "to_jaden_case(sentence2)\n",
    "\n",
    "\n",
    "def to_jaden_case(string):\n",
    "    list = string.split()\n",
    "    new_list = [i.capitalize() for i in list]\n",
    "    return ' '.join(new_list)\n",
    "\n",
    "\n",
    "to_jaden_case(sentence1)\n",
    "\n",
    "to_jaden_case(sentence2)\n",
    "\n",
    "\n",
    "def to_jaden_case(string):\n",
    "    words = string.split(\" \")\n",
    "    output = \"\"\n",
    "    for word in words:\n",
    "        corrected = word.capitalize()\n",
    "        output += corrected + \" \"\n",
    "        \n",
    "    return output[0:-1]\n",
    "\n",
    "\n",
    "to_jaden_case(sentence1)\n",
    "\n",
    "to_jaden_case(sentence2)\n",
    "\n",
    "\n",
    "def to_jaden_case(string):\n",
    "    return ' '.join(map(str.capitalize, string.split()))\n",
    "\n",
    "\n",
    "to_jaden_case(sentence1)\n",
    "\n",
    "to_jaden_case(sentence2)\n",
    "\n",
    "\n",
    "13/2\n",
    "\n",
    "4%2\n",
    "\n",
    "4//2\n",
    "    "
   ]
  },
  {
   "cell_type": "code",
   "execution_count": 214,
   "id": "aa7df4cd-f0cd-4965-8ff9-520692f2dfad",
   "metadata": {},
   "outputs": [],
   "source": [
    "def get_middle_abe(s):\n",
    "    m = len(s)\n",
    "    if m%2 == 0:\n",
    "        res = s[m//2-1]+s[m//2]\n",
    "    else:\n",
    "        res = s[m//2]\n",
    "    return res\n",
    "\n",
    "\n",
    "\n",
    "def get_middle(s):\n",
    "    index, odd = divmod(len(s), 2)\n",
    "    return s[index] if odd else s[index - 1:index + 1]\n",
    "\n",
    "\n",
    "import math\n",
    "def get_middle(s):\n",
    "    #your code here\n",
    "    x = len(s)\n",
    "    y = int(x/2)\n",
    "    if x%2==0:\n",
    "        return s[y-1:y+1]\n",
    "    else:\n",
    "        return s[y:y+1]\n",
    "\n",
    "\n",
    "def get_middle(s):\n",
    "    i = (len(s) - 1) // 2\n",
    "    return s[i:-i] or s\n",
    "\n",
    "def get_middle(s):\n",
    "    return s[(len(s)-1)//2:len(s)//2+1]\n",
    "\n",
    " "
   ]
  },
  {
   "cell_type": "code",
   "execution_count": 218,
   "id": "5468dcb0-425d-4e69-9f27-90021c729f83",
   "metadata": {},
   "outputs": [
    {
     "data": {
      "text/plain": [
       "-5"
      ]
     },
     "execution_count": 218,
     "metadata": {},
     "output_type": "execute_result"
    }
   ],
   "source": [
    "get_middle_abe(\"a\")\n",
    "get_middle_abe(\"asi\")\n",
    "\n"
   ]
  },
  {
   "cell_type": "code",
   "execution_count": 219,
   "id": "1ffb5944-3997-40ac-8fda-fe8b61414577",
   "metadata": {
    "scrolled": true
   },
   "outputs": [
    {
     "data": {
      "text/plain": [
       "4"
      ]
     },
     "execution_count": 219,
     "metadata": {},
     "output_type": "execute_result"
    }
   ],
   "source": [
    "def find_short(s):\n",
    "    # your code here\n",
    "    s_split = s.split(\" \")\n",
    "    lens = []\n",
    "    for word in s_split:\n",
    "        lens.append(len(word))\n",
    "    l = min(lens)    \n",
    "    return l\n",
    "\n",
    "find_short(\"Este madrid será imposible ganarle\")    "
   ]
  },
  {
   "cell_type": "code",
   "execution_count": 273,
   "id": "015caf5b-9f95-460f-8a7e-7a288838870a",
   "metadata": {
    "scrolled": true
   },
   "outputs": [
    {
     "name": "stdout",
     "output_type": "stream",
     "text": [
      "a[ 0 ] =  1\n",
      "a[ 1 ] =  2\n",
      "a[ 2 ] =  2\n"
     ]
    },
    {
     "data": {
      "text/plain": [
       "[1, 2, 2]"
      ]
     },
     "execution_count": 273,
     "metadata": {},
     "output_type": "execute_result"
    }
   ],
   "source": [
    "def array_diff(a, b):\n",
    "    if b == []:\n",
    "        a_aux = a\n",
    "    else:    \n",
    "        a_aux = []\n",
    "    for j in range(len(a)):\n",
    "        print(\"a[\",j,\"] = \",a[j])\n",
    "        for i in range(len(b)):\n",
    "            print(\"b[\",i,\"] = \",b[i])\n",
    "            if a[j] != b[i]:\n",
    "                xx = a[j] \n",
    "                a_aux.append(xx)\n",
    "                \n",
    "    return a_aux        \n",
    "                \n",
    "\n",
    "\n",
    "a=[1,2,2]\n",
    "b=[]\n",
    "array_diff(a, b)\n"
   ]
  },
  {
   "cell_type": "code",
   "execution_count": 274,
   "id": "43ff36ca-3c3c-4ba2-80ce-0983700c21d6",
   "metadata": {},
   "outputs": [],
   "source": [
    "def list_diff(a, b):\n",
    "    b_set = set(b)\n",
    "    result = [item for item in a if item not in b_set]\n",
    "    return result\n",
    "\n",
    "\n",
    "\n",
    "def array_diff(a, b):\n",
    "    new_list = []\n",
    "    for val in a:\n",
    "        if val not in b:\n",
    "            new_list.append(val)\n",
    "            \n",
    "    return new_list     \n"
   ]
  },
  {
   "cell_type": "code",
   "execution_count": 296,
   "id": "7fab07af-d397-419b-b99b-ddf65f9740e6",
   "metadata": {
    "scrolled": true
   },
   "outputs": [
    {
     "name": "stdout",
     "output_type": "stream",
     "text": [
      "{'A': 'N', 'B': 'O', 'C': 'P', 'D': 'Q', 'E': 'R', 'F': 'S', 'G': 'T', 'H': 'U', 'I': 'V', 'J': 'W', 'K': 'X', 'L': 'Y', 'M': 'Z', 'N': 'A', 'O': 'B', 'P': 'C', 'Q': 'D', 'R': 'E', 'S': 'F', 'T': 'G', 'U': 'H', 'V': 'I', 'W': 'J', 'X': 'K', 'Y': 'L', 'Z': 'M'}\n",
      "{'a': 'n', 'b': 'o', 'c': 'p', 'd': 'q', 'e': 'r', 'f': 's', 'g': 't', 'h': 'u', 'i': 'v', 'j': 'w', 'k': 'x', 'l': 'y', 'm': 'z', 'n': 'a', 'o': 'b', 'p': 'c', 'q': 'd', 'r': 'e', 's': 'f', 't': 'g', 'u': 'h', 'v': 'i', 'w': 'j', 'x': 'k', 'y': 'l', 'z': 'm'}\n",
      "RY Erny Znqevq rf ry 1 rdhvcb ra tnane 3 irprf frthvqnf yn H.R.S.N  yn pnaln\n"
     ]
    }
   ],
   "source": [
    "list_uf = [\"A\",\"B\",\"C\",\"D\",\"E\",\"F\",\"G\",\"H\",\"I\",\"J\",\"K\",\"L\",\"M\",\"N\",\"O\",\"P\",\"Q\",\"R\",\"S\",\"T\",\"U\",\"V\",\"W\",\"X\",\"Y\",\"Z\"]\n",
    "list_us = [\"N\",\"O\",\"P\",\"Q\",\"R\",\"S\",\"T\",\"U\",\"V\",\"W\",\"X\",\"Y\",\"Z\",\"A\",\"B\",\"C\",\"D\",\"E\",\"F\",\"G\",\"H\",\"I\",\"J\",\"K\",\"L\",\"M\"]\n",
    "\n",
    "list_lf = [\"a\",\"b\",\"c\",\"d\",\"e\",\"f\",\"g\",\"h\",\"i\",\"j\",\"k\",\"l\",\"m\",\"n\",\"o\",\"p\",\"q\",\"r\",\"s\",\"t\",\"u\",\"v\",\"w\",\"x\",\"y\",\"z\"]\n",
    "list_ls = [\"n\",\"o\",\"p\",\"q\",\"r\",\"s\",\"t\",\"u\",\"v\",\"w\",\"x\",\"y\",\"z\",\"a\",\"b\",\"c\",\"d\",\"e\",\"f\",\"g\",\"h\",\"i\",\"j\",\"k\",\"l\",\"m\"]\n",
    "\n",
    "dict_l = {}\n",
    "dict_u = {}\n",
    "\n",
    "for j in range(len(list_uf)):\n",
    "    dict_u[list_uf[j]] = list_us[j]\n",
    "\n",
    "for j in range(len(list_lf)):\n",
    "    dict_l[list_lf[j]] = list_ls[j]    \n",
    "\n",
    "print(dict_u)\n",
    "print(dict_l)\n",
    "\n",
    "texto = \"EL Real Madrid es el 1 equipo en ganar 3 veces seguidas la U.E.F.A  la canya\"\n",
    "def \n",
    "    new_text = \"\"\n",
    "    for i in range(len(texto)):\n",
    "        if texto[i].isalpha():\n",
    "            if texto[i].isupper():\n",
    "                new_texto = new_texto + dict_u[texto[i]]\n",
    "            else:\n",
    "                new_texto = new_texto + dict_l[texto[i]]\n",
    "        else:\n",
    "            new_texto = new_texto + texto[i]\n",
    "    \n",
    "print(new_texto)"
   ]
  },
  {
   "cell_type": "code",
   "execution_count": null,
   "id": "255d233d-e37b-4884-815a-11835f665cb7",
   "metadata": {},
   "outputs": [],
   "source": [
    "import string\n",
    "from codecs import encode as _dont_use_this_\n",
    "\n",
    "def rot13(message):\n",
    "    alpha = \"ABCDEFGHIJKLMNOPQRSTUVWXYZ\"\n",
    "    outputMessage = \"\"\n",
    "    for letter in message:\n",
    "        if letter in alpha.lower():\n",
    "            outputMessage += alpha[(alpha.lower().index(letter) +13) % 26].lower()\n",
    "        elif letter in alpha:\n",
    "            outputMessage += alpha[(alpha.index(letter) +13) % 26]\n",
    "        else:\n",
    "            outputMessage += letter\n",
    "    return outputMessage\n",
    "\n",
    "def rot13(message):\n",
    "    return message.translate(message.maketrans('ABCDEFGHIJKLMNOPQRSTUVWXYZabcdefghijklmnopqrstuvwxyz','NOPQRSTUVWXYZABCDEFGHIJKLMnopqrstuvwxyzabcdefghijklm'))\n",
    "\n",
    "def rot13(message):\n",
    "    a = \"abcdefghijklmnopqrstuvwxyzabcdefghijklmnopqrstuvwxyzABCDEFGHIJKLMNOPQRSTUVWXYZABCDEFGHIJKLMNOPQRSTUVWXYZ\"\n",
    "    return ''.join(a[a.index(i)+13] if i in a else i for i in message)  "
   ]
  },
  {
   "cell_type": "code",
   "execution_count": 315,
   "id": "80a37837-9b27-4e18-aa7d-7caf01285f93",
   "metadata": {},
   "outputs": [
    {
     "name": "stdout",
     "output_type": "stream",
     "text": [
      "False\n"
     ]
    }
   ],
   "source": [
    "message = \"The quick brown fox jumps over the lazy dog\"\n",
    "res = True\n",
    "alpha = \"ABCDEFGHIJKLMNOPQRSTUVWXYZ\"\n",
    "result = []\n",
    "message = message.upper()\n",
    "message = message.replace(\" \",\"\")\n",
    "for letter in alpha:\n",
    "        if letter in message:\n",
    "            result.append(True)\n",
    "        else: \n",
    "            result.append(False)\n",
    "if result.count(False)>0:\n",
    "    res = False\n",
    "\n",
    "res\n",
    "\n",
    "print(res)"
   ]
  },
  {
   "cell_type": "code",
   "execution_count": 317,
   "id": "8b5f4aec-72a6-4493-89f9-b7555856dcb1",
   "metadata": {},
   "outputs": [],
   "source": [
    "from math import floor, sqrt\n",
    "\n",
    "def find_nb(m):\n",
    "    n = 0\n",
    "    volume = 0\n",
    "    while volume < m:\n",
    "        n += 1\n",
    "        volume += n**3\n",
    "    \n",
    "    if volume == m:\n",
    "        return n\n",
    "    else:\n",
    "        return -1\n",
    "\n",
    "\n",
    "def find_nb(m):\n",
    "    # Used the formula for the sum of cubes: m = (n(n+1)/2)^2\n",
    "    # Rearranged to find n^2 + n = n(n+1) ~= n^2 ~= 2sqrt(m),\n",
    "    # so take square root and round down the result.\n",
    "    n_canidate = int(floor(sqrt(2 * sqrt(m))))\n",
    "    if (n_canidate * (n_canidate + 1) / 2 )**2 == m:\n",
    "        return n_canidate\n",
    "    else:\n",
    "        return -1\n",
    "\n",
    "\n",
    "def find_nb(m):\n",
    "    i,sum = 1,1\n",
    "    while sum < m:\n",
    "        i+=1\n",
    "        sum+=i**3\n",
    "    return i if m==sum else -1  \n",
    "\n",
    "\n",
    "def find_nb(m):\n",
    "    '''\n",
    "    n cube sum m = (n*(n+1)//2)**2\n",
    "    then n**2 < 2*m**0.5 < (n+1)**2\n",
    "    and we can proof that for any n, 0.5 > (2*m**0.5)**0.5 - n**2 > 2**0.5 - 1 > 0.4\n",
    "    '''\n",
    "    n = int((2*m**0.5)**0.5)\n",
    "    if (n*(n+1)//2)**2 != m: return -1\n",
    "    return n\n"
   ]
  }
 ],
 "metadata": {
  "kernelspec": {
   "display_name": "Python 3 (ipykernel)",
   "language": "python",
   "name": "python3"
  },
  "language_info": {
   "codemirror_mode": {
    "name": "ipython",
    "version": 3
   },
   "file_extension": ".py",
   "mimetype": "text/x-python",
   "name": "python",
   "nbconvert_exporter": "python",
   "pygments_lexer": "ipython3",
   "version": "3.13.1"
  }
 },
 "nbformat": 4,
 "nbformat_minor": 5
}

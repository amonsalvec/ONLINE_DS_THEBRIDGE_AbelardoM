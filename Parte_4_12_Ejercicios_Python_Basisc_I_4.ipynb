{
 "cells": [
  {
   "cell_type": "markdown",
   "metadata": {
    "id": "xPVpSboMR_9O"
   },
   "source": [
    "![TheBridge_logo_RGB_color.jpg](attachment:TheBridge_logo_RGB_color.jpg)"
   ]
  },
  {
   "cell_type": "markdown",
   "metadata": {
    "id": "Qs8vJVZKR_9W"
   },
   "source": [
    "![imagen](./img/ejercicios.png)"
   ]
  },
  {
   "cell_type": "markdown",
   "metadata": {
    "id": "pqeKOX-uR_9Y"
   },
   "source": [
    "## EJERCICIOS PYTHON BASICO 4:\n",
    "## Funciones, métodos, listas"
   ]
  },
  {
   "cell_type": "markdown",
   "metadata": {
    "id": "4TSyxm0aR_9a"
   },
   "source": [
    "Completa los siguiente ejercicios, la solución completa a los mismos se publicarán en el repo del curso a lo largo del sprint. En algunos ejercicios se muestra la solución final, para que puedas comprobar que lo has hecho bien, pero lo importante es el código que generes. ¡Vaaamos, a ello...!"
   ]
  },
  {
   "cell_type": "markdown",
   "metadata": {
    "id": "wh0fcItXR_9c"
   },
   "source": [
    "![ejercicio.png](./img/ejercicio.png)\n",
    "\n",
    "## Ejercicio 1\n",
    "Para este ejercicio vamos a poner en práctica [las funciones built in](https://docs.python.org/3/library/functions.html).\n",
    "\n",
    "1. Calcula el máximo de la lista: [4, 6, 8, -1]\n",
    "2. Suma todos los elementos de la lista anterior\n",
    "3. Redondea este float a 3 dígitos decimales: 63.451256965\n",
    "4. Valor absoluto de: -74"
   ]
  },
  {
   "cell_type": "code",
   "execution_count": 7,
   "metadata": {
    "id": "rOc3H8SzR_9d"
   },
   "outputs": [
    {
     "name": "stdout",
     "output_type": "stream",
     "text": [
      "8\n"
     ]
    }
   ],
   "source": [
    "# 1.\n",
    "lista = [4, 6, 8, -1]\n",
    "print(max(lista))"
   ]
  },
  {
   "cell_type": "code",
   "execution_count": 8,
   "metadata": {},
   "outputs": [
    {
     "name": "stdout",
     "output_type": "stream",
     "text": [
      "17\n"
     ]
    }
   ],
   "source": [
    "# 2.\n",
    "suma = sum(lista)\n",
    "print(suma)"
   ]
  },
  {
   "cell_type": "code",
   "execution_count": 10,
   "metadata": {},
   "outputs": [
    {
     "name": "stdout",
     "output_type": "stream",
     "text": [
      "63.451\n"
     ]
    }
   ],
   "source": [
    "# 3.\n",
    "numero = 63.451256965\n",
    "redondeo = round(numero,3)\n",
    "print(redondeo)"
   ]
  },
  {
   "cell_type": "code",
   "execution_count": 12,
   "metadata": {},
   "outputs": [
    {
     "name": "stdout",
     "output_type": "stream",
     "text": [
      "74\n"
     ]
    }
   ],
   "source": [
    "# 4. \n",
    "numero = -74\n",
    "vabs = abs(numero)\n",
    "print(vabs)"
   ]
  },
  {
   "cell_type": "markdown",
   "metadata": {
    "id": "mSnY2RGYR_9e"
   },
   "source": [
    "![ejercicio.png](./img/ejercicio.png)\n",
    "\n",
    "## Ejercicio 2\n",
    "Para el siguiente string se pide imprimir por pantalla los siguientes casos\n",
    "\n",
    "    \"En un lugar de la Mancha, de cuyo nombre no quiero acordarme.\"\n",
    "\n",
    "1. Pásalo todo a mayúsculas\n",
    "2. Pásalo todo a minúsculas\n",
    "3. Solo la primera letra de cada palabra en mayúscula, el resto en minúscula\n",
    "4. Crea una lista dividiéndolo por sus espacios\n",
    "5. Sustituye las comas `,` por puntos y comas `;`\n",
    "6. Elimina las `a` minúsculas"
   ]
  },
  {
   "cell_type": "code",
   "execution_count": 27,
   "metadata": {
    "id": "jqwWCx5CR_9g",
    "outputId": "b222b4cb-de23-47aa-bb2b-24af37794544"
   },
   "outputs": [
    {
     "name": "stdout",
     "output_type": "stream",
     "text": [
      "1. Todo a mayusculas :\n",
      " EN UN LUGAR DE LA MANCHA, DE CUYO NOMBRE NO QUIERO ACORDARME.\n",
      "2. Todo a minusculas :\n",
      " en un lugar de la mancha, de cuyo nombre no quiero acordarme.\n",
      "2. Todo a minusculas :\n",
      " en un lugar de la mancha, de cuyo nombre no quiero acordarme.\n",
      "3. Solo la primera letra de cada palabra en mayuscula :\n",
      " En Un Lugar De La Mancha, De Cuyo Nombre No Quiero Acordarme.\n",
      "4. Lista dividida por sus espacios :\n",
      " ['En', 'un', 'lugar', 'de', 'la', 'Mancha,', 'de', 'cuyo', 'nombre', 'no', 'quiero', 'acordarme.']\n",
      "5. Comas por puntos y coma :\n",
      " En un lugar de la Mancha; de cuyo nombre no quiero acordarme.\n",
      "6. Eliminar las 'a' minúsculas :\n",
      " En un lug r de l  M nch , de cuyo nombre no quiero  cord rme.\n"
     ]
    }
   ],
   "source": [
    "cadena = \"En un lugar de la Mancha, de cuyo nombre no quiero acordarme.\"\n",
    "# 1.\n",
    "ejercicio_2_1 = cadena.upper()\n",
    "print(\"1. Todo a mayusculas :\\n\",ejercicio_2_1)\n",
    "\n",
    "# 2.\n",
    "# Tomando como base la cadena string inicial\n",
    "ejercicio_2_2 = cadena.lower()\n",
    "print(\"2. Todo a minusculas :\\n\",ejercicio_2_2)\n",
    "# Tomando como base el ejercicio anterior\n",
    "minusculas = ejercicio_2_1.lower()\n",
    "print(\"2. Todo a minusculas :\\n\",minusculas)\n",
    "\n",
    "# 3. \n",
    "ejercicio_2_3 = cadena.title()\n",
    "print(\"3. Solo la primera letra de cada palabra en mayuscula :\\n\",ejercicio_2_3)\n",
    "\n",
    "# 4. \n",
    "ejercicio_2_4 = cadena.split()\n",
    "print(\"4. Lista dividida por sus espacios :\\n\",ejercicio_2_4)\n",
    "\n",
    "# 5.\n",
    "ejercicio_2_5 = cadena.replace(\",\",\";\")\n",
    "print(\"5. Comas por puntos y coma :\\n\",ejercicio_2_5)\n",
    "\n",
    "# 6. \n",
    "ejercicio_2_6 = cadena.replace(\"a\",\" \")\n",
    "print(\"6. Eliminar las 'a' minúsculas :\\n\",ejercicio_2_6)\n"
   ]
  },
  {
   "cell_type": "markdown",
   "metadata": {
    "id": "-2zIxXfkR_9h"
   },
   "source": [
    "![ejercicio.png](./img/ejercicio.png)\n",
    "\n",
    "## Ejercicio 3\n",
    "1. Crea una lista con 3 elementos numéricos\n",
    "2. Añade un cuarto elemento\n",
    "3. Calcula la suma de todos\n",
    "4. Elimina el segundo elemento de la lista\n",
    "5. Añade otro elemento en la posicion 3 de la lista\n",
    "6. Crea otra lista con 4 elementos y concaténala a la que ya tenías.\n",
    "7. Ordena la lista de menor a mayor.\n",
    "8. BONUS: Ordena la lista de mayor a menor.  \n",
    "(*PISTA: Para hacer 8, tendrás que buscar en la información del método...*)  \n",
    "  \n",
    "  \n",
    "NOTA: Pinta por pantalla el resultado de cada paso."
   ]
  },
  {
   "cell_type": "code",
   "execution_count": 48,
   "metadata": {
    "id": "skSfXk5NR_9i",
    "outputId": "689c6e7d-87c0-4c80-fcb8-fe98fc34f7bb"
   },
   "outputs": [
    {
     "name": "stdout",
     "output_type": "stream",
     "text": [
      "Ejercicio_3_1: Creamos la lista \n",
      " [9, 16, 75]\n",
      "Ejercicio_3_2: Agregamos un nuevo elemento \n",
      " [9, 16, 75, 20]\n",
      "Ejercicio_3_3: Sumamos sus elementos \n",
      " 120\n",
      "Ejercicio_3_4: Eliminamos el segundo elemento  \n",
      " [9, 75, 20]\n",
      "Ejercicio_3_5: Agregamos un nuevo elemento \n",
      " [9, 75, 3, 20]\n",
      "Ejercicio_3_6: Creamos la lista 2 y la concatenamos \n",
      " [9, 75, 3, 20, 10, 2, 13]\n",
      "Ejercicio_3_7: Ordenamos la lista de menor a mayor \n",
      " [2, 3, 9, 10, 13, 20, 75]\n",
      "Ejercicio_3_8: Ordenamos la lista de mayor a menor \n",
      " [75, 20, 13, 10, 9, 3, 2]\n"
     ]
    }
   ],
   "source": [
    "#1. \n",
    "lista_1 = [9, 16, 75]\n",
    "print(f\"Ejercicio_3_1: Creamos la lista \\n {lista_1}\")\n",
    "\n",
    "#2.\n",
    "lista_1.append(20)\n",
    "print(f\"Ejercicio_3_2: Agregamos un nuevo elemento \\n {lista_1}\")\n",
    "\n",
    "#3. \n",
    "suma = sum(lista_1)\n",
    "print(f\"Ejercicio_3_3: Sumamos sus elementos \\n {suma}\")\n",
    "\n",
    "#4. \n",
    "lista_1.pop(1)\n",
    "print(f\"Ejercicio_3_4: Eliminamos el segundo elemento  \\n {lista_1}\")\n",
    "\n",
    "#5.\n",
    "lista_1.insert(2,3)\n",
    "print(f\"Ejercicio_3_5: Agregamos un nuevo elemento \\n {lista_1}\")\n",
    "\n",
    "#6. \n",
    "lista_2 = [10,2,13]\n",
    "concatenacion = lista_1 + lista_2\n",
    "print(f\"Ejercicio_3_6: Creamos la lista 2 y la concatenamos \\n {concatenacion}\")\n",
    "\n",
    "#7. \n",
    "concatenacion.sort()\n",
    "print(f\"Ejercicio_3_7: Ordenamos la lista de menor a mayor \\n {concatenacion}\")\n",
    "\n",
    "#8. \n",
    "concatenacion.sort(reverse=True)\n",
    "print(f\"Ejercicio_3_8: Ordenamos la lista de mayor a menor \\n {concatenacion}\")\n"
   ]
  }
 ],
 "metadata": {
  "colab": {
   "provenance": []
  },
  "kernelspec": {
   "display_name": "Python 3 (ipykernel)",
   "language": "python",
   "name": "python3"
  },
  "language_info": {
   "codemirror_mode": {
    "name": "ipython",
    "version": 3
   },
   "file_extension": ".py",
   "mimetype": "text/x-python",
   "name": "python",
   "nbconvert_exporter": "python",
   "pygments_lexer": "ipython3",
   "version": "3.13.1"
  }
 },
 "nbformat": 4,
 "nbformat_minor": 4
}

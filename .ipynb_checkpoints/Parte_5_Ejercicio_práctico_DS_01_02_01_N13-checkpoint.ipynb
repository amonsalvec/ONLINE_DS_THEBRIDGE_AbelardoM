{
 "cells": [
  {
   "cell_type": "markdown",
   "metadata": {
    "id": "9l3HMgm6RWxF"
   },
   "source": [
    "![TheBridge_logo_RGB_color.jpg](attachment:TheBridge_logo_RGB_color.jpg)"
   ]
  },
  {
   "cell_type": "markdown",
   "metadata": {
    "id": "RGg9iWpoRWxG"
   },
   "source": [
    "![ejercicios.png](attachment:ejercicios.png)"
   ]
  },
  {
   "cell_type": "markdown",
   "metadata": {
    "id": "AyOlWS2nRWxH"
   },
   "source": [
    "## PRACTICA OBLIGATORIA: COLECCIONES Y FUNCIONES"
   ]
  },
  {
   "cell_type": "markdown",
   "metadata": {
    "id": "6UOgb0KVRWxH"
   },
   "source": [
    "* La práctica obligatoria de esta unidad consiste varios ejercicios de programación libre a completar sobre Colecciones y Funciones. Descarga este notebook en tu ordenador y trabaja en local.  \n",
    "* Recuerda que debes subirla a tu repositorio personal antes de la sesión en vivo para que puntúe adecuadamente y puedas participar en dicha sesión.  \n",
    "* Recuerda también que no es necesario que esté perfecta, sólo es necesario que se vea el esfuerzo.\n",
    "* Esta práctica se resolverá en la sesión en vivo correspondiente y la solución se publicará en el repo del curso."
   ]
  },
  {
   "cell_type": "markdown",
   "metadata": {
    "id": "j3yu-tEjRWxH"
   },
   "source": [
    "### Contenidos"
   ]
  },
  {
   "cell_type": "markdown",
   "metadata": {
    "id": "kO-fLH39RWxH"
   },
   "source": [
    "## Ejercicio 1\n",
    "Eleva todos los elementos de la lista al cuadrado\n",
    "> ```ejer_2 = [1,2,3,4,5]```"
   ]
  },
  {
   "cell_type": "code",
   "execution_count": 60,
   "metadata": {
    "id": "ks5l3yi7RWxH"
   },
   "outputs": [
    {
     "name": "stdout",
     "output_type": "stream",
     "text": [
      "[1, 4, 9, 16, 25]\n"
     ]
    },
    {
     "data": {
      "text/plain": [
       "[1, 4, 9, 16, 25]"
      ]
     },
     "execution_count": 60,
     "metadata": {},
     "output_type": "execute_result"
    }
   ],
   "source": [
    "#  Usando solo propiedades de las listas y bucles for\n",
    "ejer_2 = [1, 2, 3, 4, 5]\n",
    "cuadrados = []\n",
    "for numero in ejer_2:\n",
    "  cuadrados.append(numero ** 2)  # Eleva el número al cuadrado\n",
    "  #print(cuadrados)\n",
    "\n",
    "print(cuadrados)\n",
    "\n",
    "# Definiendo una función \"cuadrado_lista\" \n",
    "ejer_2 = [1, 2, 3, 4, 5]\n",
    "\n",
    "def cuadrado_lista(x):\n",
    "    cuadrado = []\n",
    "    for numero in x:\n",
    "        cuadrado.append(numero**2)\n",
    "    return cuadrado\n",
    "\n",
    "cuadrado_lista(ejer_2)"
   ]
  },
  {
   "cell_type": "markdown",
   "metadata": {
    "id": "kI_Xr5oFRWxI"
   },
   "source": [
    "## Ejercicio 2\n",
    "Haz un programa que detecte todos los duplicados de un elemento en una lista:\n",
    "* Utiliza una variable duplicado para asignarle el valor del elemento del que queremos encontrar todos sus duplicados.\n",
    "* El programa debe devolver todos los índices de los elementos duplicados.\n",
    "* Aplícalo para encontrar los duplicados de \"un\", \"es\" y \"binario\" de:  \n",
    "\n",
    ">```ejer_3 = [\"Un\", \"árbol\", \"binario\", \"es\", \"una\", \"estructura\", \"de\", \"un\", \"tipo\", \"particular\", \"a\", \"veces\", \"no\", \"es\", \"ni\", \"binario\"]```\n",
    "\n"
   ]
  },
  {
   "cell_type": "code",
   "execution_count": 96,
   "metadata": {},
   "outputs": [
    {
     "name": "stdout",
     "output_type": "stream",
     "text": [
      "El elemento 'un' en la lista ejer_3 tiene sus duplicados en [7]\n",
      "Buscar duplicados en una lista de más de un elemento:\n",
      "El elemento 'un' en la lista ejer_3 tiene sus duplicados en [7]\n",
      "El elemento 'es' en la lista ejer_3 tiene sus duplicados en [3, 13]\n",
      "El elemento 'binario' en la lista ejer_3 tiene sus duplicados en [2, 15]\n"
     ]
    }
   ],
   "source": [
    "# Usando las propiedades de las listas\n",
    "ejer_3 = [\"Un\", \"árbol\", \"binario\", \"es\", \"una\", \"estructura\", \"de\", \"un\", \"tipo\", \"particular\", \"a\", \"veces\", \"no\", \"es\", \"ni\", \"binario\"]\n",
    "\n",
    "lista_duplicados = [\"un\"]\n",
    "\n",
    "for duplicado in lista_duplicados:\n",
    "    lista = ejer_3\n",
    "    indices = []\n",
    "    for i, elemento in enumerate(lista):\n",
    "        if elemento == duplicado:\n",
    "          indices.append(i)\n",
    "    print(f\"El elemento '{duplicado}' en la lista ejer_3 tiene sus duplicados en {indices}\")\n",
    "\n",
    "print(\"Buscar duplicados en una lista de más de un elemento:\")\n",
    "\n",
    "# Usando una lista de elementos a buscar sus duplicados\n",
    "lista_duplicados = [\"un\",\"es\",\"binario\"]\n",
    "\n",
    "for duplicado in lista_duplicados:\n",
    "    lista = ejer_3\n",
    "    indices = []\n",
    "    for i, elemento in enumerate(lista):\n",
    "        if elemento == duplicado:\n",
    "          indices.append(i)\n",
    "    print(f\"El elemento '{duplicado}' en la lista ejer_3 tiene sus duplicados en {indices}\")\n",
    "\n",
    "\n",
    "\n",
    "\n"
   ]
  },
  {
   "cell_type": "markdown",
   "metadata": {
    "id": "3WrBd5QaRWxI"
   },
   "source": [
    "## Ejercicio 3\n",
    "1. ¿Cuántas veces se repite el 3 en la siguiente tupla?\n",
    "2. Crea una tupla nueva con los elementos desde la posicion 5 a la 10.\n",
    "3. ¿Cuántos elementos tiene la tupla `ejer_3`?\n",
    "> ```ejer_9 = (3, 20, 3, 47, 19, 3, 29, 45, 67, 78, 90, 3, 3, 5, 2, 4, 7, 9, 4, 2, 4, 3, 3, 4, 6, 7)```"
   ]
  },
  {
   "cell_type": "code",
   "execution_count": 106,
   "metadata": {
    "id": "bkv_R5LYRWxI"
   },
   "outputs": [
    {
     "name": "stdout",
     "output_type": "stream",
     "text": [
      "7\n",
      "(19, 3, 29, 45, 67, 78)\n",
      "16\n",
      "26\n"
     ]
    }
   ],
   "source": [
    "ejer_9 = (3, 20, 3, 47, 19, 3, 29, 45, 67, 78, 90, 3, 3, 5, 2, 4, 7, 9, 4, 2, 4, 3, 3, 4, 6, 7)\n",
    "\n",
    "1#\n",
    "print(ejer_9.count(3))\n",
    "\n",
    "2# \n",
    "new_tupla = ejer_9[4:10]\n",
    "print(new_tupla)\n",
    "\n",
    "3# \n",
    "print(len(ejer_3))\n",
    "print(len(ejer_9))\n"
   ]
  },
  {
   "cell_type": "markdown",
   "metadata": {
    "id": "6g8Y54AeRWxI"
   },
   "source": [
    "## Ejercicio 4\n",
    "Comprueba si el numero 60 esta en la tupla del ejercicio 3"
   ]
  },
  {
   "cell_type": "code",
   "execution_count": 115,
   "metadata": {
    "id": "F8VTEZonRWxI"
   },
   "outputs": [
    {
     "name": "stdout",
     "output_type": "stream",
     "text": [
      "El número 60 no está en la tupla\n",
      "El número no se encuentra en la tupla\n"
     ]
    }
   ],
   "source": [
    "# Si solo necesitamos saber si está\n",
    "ejer_9.count(60)\n",
    "if ejer_9.count(60) > 0:\n",
    "    print(\"El número 60 si está en la tupla\")\n",
    "else:\n",
    "    print(\"El número 60 no está en la tupla\")\n",
    "\n",
    "# Si queremos saber el indice donde aparece por primera vez\n",
    "numero = 60\n",
    "tupla = ejer_9\n",
    "try:\n",
    "    indice = tupla.index(numero)\n",
    "    print(f\"El {número} si está en la tupla y se encuentra en la posición {indice}\")\n",
    "except: \n",
    "    print(\"El número no se encuentra en la tupla\")"
   ]
  },
  {
   "cell_type": "markdown",
   "metadata": {
    "id": "y0fg-ZA6RWxI"
   },
   "source": [
    "## Ejercicio 5\n",
    "1. Convierte la tupla del ejercicio 3 en una lista\n",
    "2. Convierte la tupla del ejercicio 3 en un set\n",
    "3. Convierte la tupla del ejercicio 3 en un diccionario. Usa también los indices"
   ]
  },
  {
   "cell_type": "code",
   "execution_count": 117,
   "metadata": {
    "id": "_O5hXr01RWxI"
   },
   "outputs": [
    {
     "name": "stdout",
     "output_type": "stream",
     "text": [
      "('Un', 'árbol', 'binario', 'es', 'una', 'estructura', 'de', 'un', 'tipo', 'particular', 'a', 'veces', 'no', 'es', 'ni', 'binario')\n"
     ]
    }
   ],
   "source": [
    "lista_ejer_3 = tuple(ejer_3)\n",
    "print(lista_ejer_3)"
   ]
  },
  {
   "cell_type": "markdown",
   "metadata": {
    "id": "eOdWWbxvRWxJ"
   },
   "source": [
    "## Ejercicio 6\n",
    "Multiplica todos los valores del diccionario\n",
    "> ```ejer_6 = {1: 11, 2: 22, 3: 33, 4: 44, 5: 55}```"
   ]
  },
  {
   "cell_type": "code",
   "execution_count": 121,
   "metadata": {
    "id": "KcuByovKRWxJ"
   },
   "outputs": [
    {
     "name": "stdout",
     "output_type": "stream",
     "text": [
      " El resultado de multiplicar todos los valores del diccionario ejer 6 es : 19326120\n"
     ]
    }
   ],
   "source": [
    "ejer_6 = {1: 11, 2: 22, 3: 33, 4: 44, 5: 55}\n",
    "resultado = 1\n",
    "for i in ejer_6.values():\n",
    "  resultado = resultado * i\n",
    "\n",
    "print(f\" El resultado de multiplicar todos los valores del diccionario ejer 6 es : {resultado}\")\n"
   ]
  },
  {
   "cell_type": "markdown",
   "metadata": {
    "id": "W7TUSaKRRWxJ"
   },
   "source": [
    "## Ejercicio 7\n",
    "\n",
    "1. Crea un diccionario que describa un libro, con los siguientes campos o claves: \"titulo\",\"autor\",\"idioma original\",\"año de publicación\".\n",
    "2. Crea un a lista, llamada librería.\n",
    "3. Añade cuatro libros a tu elección a la librería."
   ]
  },
  {
   "cell_type": "code",
   "execution_count": 181,
   "metadata": {
    "id": "d-IMRvxRRWxJ",
    "vscode": {
     "languageId": "plaintext"
    }
   },
   "outputs": [
    {
     "name": "stdout",
     "output_type": "stream",
     "text": [
      "{'titulo': 'caballo de Troya : Jerusalén', 'autor': 'J.J Benitez', 'idioma original': 'Español', 'año de publicación': '1984'}\n",
      "{'titulo': 'Problemas y ejercicios de análisis matemático', 'autor': 'B.P Demidovich', 'idioma original': 'Ruso', 'año de publicación': '1980'}\n",
      "{'titulo': 'El túnel', 'autor': 'Erenesto Sabato', 'idioma original': 'Español', 'año de publicación': '1948'}\n",
      "{'titulo': \"Alice's adventures in wonderland\", 'autor': 'Lewis Carrol', 'idioma original': 'Inglés', 'año de publicación': '1865'}\n"
     ]
    }
   ],
   "source": [
    "titulos = [\"caballo de Troya : Jerusalén\",\"Problemas y ejercicios de análisis matemático\",\"El túnel\", \"Alice's adventures in wonderland\"]\n",
    "autores = [\"J.J Benitez\",\"B.P Demidovich\",\"Erenesto Sabato\",\"Lewis Carrol\"]\n",
    "idiomas = [\"Español\",\"Ruso\",\"Español\", \"Inglés\"]\n",
    "anyos    = [\"1984\", \"1980\",\"1948\", \"1865\"]\n",
    "\n",
    "libreria = []\n",
    "for i in range(4): \n",
    "    dict_libros = {\n",
    "      \"titulo\": titulos[i],\n",
    "      \"autor\": autores[i],\n",
    "      \"idioma original\": idiomas[i],\n",
    "      \"año de publicación\": anyos[i]\n",
    "    }\n",
    "    libreria.append(dict_libros)\n",
    "    \n",
    "#print(libreria)\n",
    "\n",
    "for i in range(len(libreria)): \n",
    "    print(libreria[i])\n"
   ]
  },
  {
   "cell_type": "markdown",
   "metadata": {
    "id": "glMoedjYRWxJ"
   },
   "source": [
    "## Ejercicio 8\n",
    "Modifica los valores del idioma de todos los libros del ejercicio anterior para que sea \"esperanto\"\n"
   ]
  },
  {
   "cell_type": "code",
   "execution_count": 187,
   "metadata": {
    "id": "veNdC-uwRWxJ"
   },
   "outputs": [
    {
     "name": "stdout",
     "output_type": "stream",
     "text": [
      "{'titulo': 'caballo de Troya : Jerusalén', 'autor': 'J.J Benitez', 'idioma original': 'esperanto', 'año de publicación': '1984'}\n",
      "{'titulo': 'Problemas y ejercicios de análisis matemático', 'autor': 'B.P Demidovich', 'idioma original': 'esperanto', 'año de publicación': '1980'}\n",
      "{'titulo': 'El túnel', 'autor': 'Erenesto Sabato', 'idioma original': 'esperanto', 'año de publicación': '1948'}\n",
      "{'titulo': \"Alice's adventures in wonderland\", 'autor': 'Lewis Carrol', 'idioma original': 'esperanto', 'año de publicación': '1865'}\n"
     ]
    }
   ],
   "source": [
    "#idiomas = [\"esperanto\",\"esperanto\",\"esperanto\",\"esperanto\"]\n",
    "\n",
    "for i in range(len(libreria)): \n",
    "    libreria[i][\"idioma original\"]=\"esperanto\"\n",
    "\n",
    "for i in range(len(libreria)): \n",
    "    print(libreria[i])"
   ]
  },
  {
   "cell_type": "markdown",
   "metadata": {
    "id": "DRCJG04KRWxJ"
   },
   "source": [
    "## Ejercicio 9\n",
    "1. Escribe un programa que dada una variable titulo busque los libros que hay en la librería con ese título. Si no se encuentra debe devolver el mensaje `Ese no lo tengo, ¿mola?`\n",
    "2. Pruena que el programa con uno de tus libros y con otro que no contenga tu librería."
   ]
  },
  {
   "cell_type": "code",
   "execution_count": 239,
   "metadata": {
    "id": "eWHdJi9BRWxJ",
    "scrolled": true
   },
   "outputs": [
    {
     "name": "stdout",
     "output_type": "stream",
     "text": [
      "Tengo el libro con ese título:  El túnel\n",
      "Tengo el libro con ese título:  Alice's adventures in wonderland\n",
      "Ese no lo tengo, ¿mola?\n"
     ]
    }
   ],
   "source": [
    "# Usando una función \n",
    "\n",
    "def bucar_libro_libreria(titulo,libreria):\n",
    "    respuesta = []\n",
    "    for i in range(len(libreria)):\n",
    "        respuesta.append(libreria[i].get(\"titulo\") == titulo)\n",
    "      #  print(respuesta)\n",
    "    if(respuesta.count(True)>0):\n",
    "        print(\"Tengo el libro con ese título: \", titulo)\n",
    "    else:\n",
    "        print(\"Ese no lo tengo, ¿mola?\")\n",
    "    \n",
    "   \n",
    "\n",
    "bucar_libro_libreria(titulo =\"El túnel\",libreria = libreria)\n",
    "\n",
    "bucar_libro_libreria(titulo =\"Alice's adventures in wonderland\",libreria = libreria)\n",
    "\n",
    "bucar_libro_libreria(titulo =\"Don Quijote de la Mancha\",libreria = libreria)\n",
    "\n"
   ]
  },
  {
   "cell_type": "markdown",
   "metadata": {
    "id": "17YOpYuFRWxJ"
   },
   "source": [
    "## Ejercicio 10\n",
    "Convierte el programa del ejercicio 2 en una función al que se le pase el valor a buscar como un argumento posicional"
   ]
  },
  {
   "cell_type": "code",
   "execution_count": 248,
   "metadata": {
    "id": "xbj0LgvnRWxJ"
   },
   "outputs": [
    {
     "name": "stdout",
     "output_type": "stream",
     "text": [
      "{'un': [7]}\n",
      "{'un': [7], 'es': [3, 13], 'binario': [2, 15]}\n"
     ]
    }
   ],
   "source": [
    "\n",
    "def encontrar_duplicados_lista(lista_principal, lista_duplicados):\n",
    "  resultados = {}\n",
    "  for duplicado in lista_duplicados:\n",
    "    indices = []\n",
    "    for i, elemento in enumerate(lista_principal):\n",
    "      if elemento == duplicado:\n",
    "        indices.append(i)\n",
    "    resultados[duplicado] = indices\n",
    "  return resultados\n",
    "\n",
    "# Ejemplo de uso\n",
    "\n",
    "lista_duplicados = [\"un\"]\n",
    "resultados_duplicados = encontrar_duplicados_lista(ejer_3, lista_duplicados)\n",
    "print(resultados_duplicados)\n",
    "\n",
    "# Más de un valor \n",
    "\n",
    "lista_duplicados = [\"un\",\"es\",\"binario\"]\n",
    "resultados_duplicados = encontrar_duplicados_lista(ejer_3, lista_duplicados)\n",
    "print(resultados_duplicados)\n",
    "\n"
   ]
  },
  {
   "cell_type": "markdown",
   "metadata": {
    "id": "xZ-sWJxPRWxJ"
   },
   "source": [
    "## Ejercicio 11\n",
    "Convierte el programa del ejercicio 9 en una función al que se le pasen como argumentos la librería, posicional, y el título, argumento keyword con valor \"ninguno\", por defecto."
   ]
  },
  {
   "cell_type": "code",
   "execution_count": 258,
   "metadata": {
    "id": "4-JrsMdNRWxK"
   },
   "outputs": [
    {
     "name": "stdout",
     "output_type": "stream",
     "text": [
      "Tengo el libro con ese título:  El túnel\n",
      "Tengo el libro con ese título:  Alice's adventures in wonderland\n",
      "Ese no lo tengo, ¿mola?\n"
     ]
    }
   ],
   "source": [
    "def bucar_libro_libreria(args, kwargs = None):\n",
    "    respuesta = []\n",
    "    for i in range(len(args)):\n",
    "        respuesta.append(args[i].get(\"titulo\") == kwargs)\n",
    "      #  print(respuesta)\n",
    "    if(respuesta.count(True)>0):\n",
    "        print(\"Tengo el libro con ese título: \", kwargs)\n",
    "    else:\n",
    "        print(\"Ese no lo tengo, ¿mola?\")\n",
    "    \n",
    "\n",
    "bucar_libro_libreria(libreria, \"El túnel\")\n",
    "\n",
    "bucar_libro_libreria(libreria, \"Alice's adventures in wonderland\")\n",
    "\n",
    "bucar_libro_libreria(libreria, \"Don Quijote de la Mancha\")"
   ]
  },
  {
   "cell_type": "markdown",
   "metadata": {
    "id": "FtJir95QRWxK"
   },
   "source": [
    "## Ejercicio 12\n",
    "Solicitar al usuario que ingrese su dirección email. Imprimir un mensaje indicando si la dirección es válida o no, valiéndose de una función para decidirlo. Una dirección se considerará válida si contiene el símbolo \"@\"."
   ]
  },
  {
   "cell_type": "code",
   "execution_count": 277,
   "metadata": {
    "id": "sk852IZ8RWxK"
   },
   "outputs": [
    {
     "name": "stdin",
     "output_type": "stream",
     "text": [
      "Introduzca su dirección email abelardoemail.net\n"
     ]
    },
    {
     "name": "stdout",
     "output_type": "stream",
     "text": [
      "la dirección del email es invalida\n"
     ]
    },
    {
     "name": "stdin",
     "output_type": "stream",
     "text": [
      "Introduzca su dirección email abelardoemail.net\n"
     ]
    },
    {
     "name": "stdout",
     "output_type": "stream",
     "text": [
      "la dirección del email es invalida\n"
     ]
    }
   ],
   "source": [
    "# Función que recibe como entrada el email, como cadena de caracteres\n",
    "def valida_email(email):\n",
    " if email.rfind(\"@\")>0:\n",
    "     res = print(\"La dirección de email es valida\")\n",
    " else:\n",
    "     res = print(\"la dirección del email es invalida\")\n",
    " return res\n",
    "\n",
    "email = input(\"Introduzca su dirección email\")\n",
    "valida_email(email)\n",
    "\n",
    "# Función que solicita el email una vez iniciada su ejecución\n",
    "def valida_email():\n",
    " email = input(\"Introduzca su dirección email\")\n",
    " if email.rfind(\"@\")>0:\n",
    "     res = print(\"La dirección de email es valida\")\n",
    " else:\n",
    "     res = print(\"la dirección del email es invalida\")\n",
    " return res\n",
    "\n",
    "valida_email()"
   ]
  },
  {
   "cell_type": "markdown",
   "metadata": {
    "id": "Kw1MWBwBRWxK"
   },
   "source": [
    "## Ejercicio 13\n",
    "Escribe una función que compruebe si un DNI es válido, devolviendo `True` en caso afirmativo.  \n",
    "En primer lugar, el DNI debe tener entre 7 y 8 dígitos numéricos.  \n",
    "Para saber si la letra del DNI es correcta puedes utilizar el siguiente fragmento de código:\n",
    ">```Python\n",
    ">DNI= 55555555\n",
    ">palabra='TRWAGMYFPDXBNJZSQVHLCKE'\n",
    ">print('La letra del DNI es: ', palabra[DNI%23])\n",
    ">````\n"
   ]
  },
  {
   "cell_type": "code",
   "execution_count": 308,
   "metadata": {
    "id": "F5Z9rSHqRWxK"
   },
   "outputs": [
    {
     "name": "stdout",
     "output_type": "stream",
     "text": [
      "True\n",
      "True\n",
      "True\n",
      "False\n"
     ]
    }
   ],
   "source": [
    "def validar_dni(dni):\n",
    "    if len(dni) != 9:\n",
    "        return False\n",
    "    try:\n",
    "        numeros = int(dni[:8])\n",
    "    except ValueError:\n",
    "        return False\n",
    "    letra_calculada = 'TRWAGMYFPDXBNJZSQVHLCKE'[numeros % 23]\n",
    "    return dni[8].upper() == letra_calculada\n",
    "\n",
    "print(validar_dni(\"60345315P\"))\n",
    "\n",
    "print(validar_dni(\"12342878C\"))\n",
    "\n",
    "print(validar_dni(\"44490085N\"))\n",
    "\n",
    "print(validar_dni(\"1234567B\"))"
   ]
  }
 ],
 "metadata": {
  "colab": {
   "provenance": []
  },
  "kernelspec": {
   "display_name": "Python 3 (ipykernel)",
   "language": "python",
   "name": "python3"
  },
  "language_info": {
   "codemirror_mode": {
    "name": "ipython",
    "version": 3
   },
   "file_extension": ".py",
   "mimetype": "text/x-python",
   "name": "python",
   "nbconvert_exporter": "python",
   "pygments_lexer": "ipython3",
   "version": "3.13.1"
  }
 },
 "nbformat": 4,
 "nbformat_minor": 4
}
